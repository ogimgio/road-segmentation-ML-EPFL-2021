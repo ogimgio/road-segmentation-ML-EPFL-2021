{
 "cells": [
  {
   "cell_type": "markdown",
   "id": "84a12405-4948-4b2d-bb0f-5e63a3f83ed4",
   "metadata": {},
   "source": [
    "## Notebook for working with convolutional networks (e.g Unet)"
   ]
  },
  {
   "cell_type": "code",
   "execution_count": 1,
   "id": "9ee4a7e2-d02c-4472-ab82-0cfaad617b34",
   "metadata": {},
   "outputs": [],
   "source": [
    "%matplotlib inline\n",
    "import numpy as np\n",
    "import matplotlib.pyplot as plt\n",
    "import os,sys\n",
    "from PIL import Image\n",
    "from sklearn.metrics import accuracy_score\n",
    "from mega_helpers import *\n",
    "\n",
    "%load_ext autoreload\n",
    "%autoreload 2"
   ]
  },
  {
   "cell_type": "code",
   "execution_count": null,
   "id": "38c8958f-efda-4ed7-a14e-5e3563d86f71",
   "metadata": {},
   "outputs": [],
   "source": []
  }
 ],
 "metadata": {
  "kernelspec": {
   "display_name": "Python 3 (ipykernel)",
   "language": "python",
   "name": "python3"
  },
  "language_info": {
   "codemirror_mode": {
    "name": "ipython",
    "version": 3
   },
   "file_extension": ".py",
   "mimetype": "text/x-python",
   "name": "python",
   "nbconvert_exporter": "python",
   "pygments_lexer": "ipython3",
   "version": "3.7.11"
  }
 },
 "nbformat": 4,
 "nbformat_minor": 5
}
